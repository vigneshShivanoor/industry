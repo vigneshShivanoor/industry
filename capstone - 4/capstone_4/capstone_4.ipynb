{
 "cells": [
  {
   "cell_type": "code",
   "execution_count": 1,
   "id": "81e441b4-8bf4-475c-8909-4d98389d19c4",
   "metadata": {},
   "outputs": [
    {
     "data": {
      "text/plain": [
       "Unnamed: 0.1      0\n",
       "Unnamed: 0        0\n",
       "DR_NO             0\n",
       "Date Rptd         0\n",
       "DATE OCC          0\n",
       "TIME OCC          0\n",
       "AREA              0\n",
       "AREA NAME         0\n",
       "Rpt Dist No       0\n",
       "Part 1-2          0\n",
       "Crm Cd            0\n",
       "Crm Cd Desc       0\n",
       "Mocodes           0\n",
       "Vict Age          0\n",
       "Vict Sex          0\n",
       "Vict Descent      0\n",
       "Premis Cd         0\n",
       "Premis Desc       0\n",
       "Weapon Used Cd    0\n",
       "Weapon Desc       0\n",
       "Status            0\n",
       "Status Desc       0\n",
       "Crm Cd 1          0\n",
       "LOCATION          0\n",
       "Cross Street      0\n",
       "LAT               0\n",
       "LON               0\n",
       "dtype: int64"
      ]
     },
     "execution_count": 1,
     "metadata": {},
     "output_type": "execute_result"
    }
   ],
   "source": [
    "import pandas as pd\n",
    "import numpy as np\n",
    "import seaborn as sns\n",
    "import pickle\n",
    "import os\n",
    "from sklearn.preprocessing import StandardScaler\n",
    "import matplotlib.pyplot as plt\n",
    "from sklearn.model_selection import train_test_split\n",
    "from sklearn.ensemble import RandomForestClassifier\n",
    "from sklearn.metrics import mean_squared_error\n",
    "from sklearn.preprocessing import MinMaxScaler\n",
    "from sklearn.metrics import r2_score\n",
    "from sklearn.datasets import load_iris\n",
    "from sklearn.model_selection import train_test_split\n",
    "from sklearn.metrics import accuracy_score\n",
    "# os.chdir(\"D:/everythingfromc/portfolio/capstone_4 (2)\")\n",
    "df=pd.read_csv(\"D:/everythingfromc/portfolio/capstone_4 (2)/capstone_4/vigneshki.csv\")\n",
    "df.isna().sum()"
   ]
  },
  {
   "cell_type": "code",
   "execution_count": 2,
   "id": "49172036-5c98-490b-9ae9-0ae6fbf18130",
   "metadata": {},
   "outputs": [],
   "source": [
    "df=df.drop(df.columns[0],axis=1)\n",
    "df=df.drop(df.columns[0],axis=1)\n",
    "df=df.drop(df.columns[0],axis=1)"
   ]
  },
  {
   "cell_type": "code",
   "execution_count": 3,
   "id": "b892a074-d9c8-4cd3-8e7c-cd7ecd27fe76",
   "metadata": {},
   "outputs": [],
   "source": [
    "df['Vict Sex']=df['Vict Sex'].replace(\"unknown\",'P')"
   ]
  },
  {
   "cell_type": "code",
   "execution_count": 4,
   "id": "fe887ed8-5017-4170-b78e-b933b073c793",
   "metadata": {},
   "outputs": [],
   "source": [
    "df['Date Rptd']=pd.to_datetime(df['Date Rptd'])\n",
    "df['day_rptd'] = df['Date Rptd'].dt.day\n",
    "df['month_rptd'] = df['Date Rptd'].dt.month\n",
    "df['year_rptd'] = df['Date Rptd'].dt.year\n"
   ]
  },
  {
   "cell_type": "code",
   "execution_count": 5,
   "id": "80f7dd5a-9c60-4b58-ae31-7dd128c894af",
   "metadata": {},
   "outputs": [],
   "source": [
    "df['DATE OCC']=pd.to_datetime(df['DATE OCC'])\n",
    "df['day_occ'] = df['DATE OCC'].dt.day\n",
    "df['month_occ'] = df['DATE OCC'].dt.month\n",
    "df['year_occ'] = df['DATE OCC'].dt.year\n"
   ]
  },
  {
   "cell_type": "code",
   "execution_count": 6,
   "id": "f58433f4-08ae-4288-9a67-571607963a09",
   "metadata": {},
   "outputs": [],
   "source": [
    "df[['hour', 'minute']] = df['TIME OCC'].str.split(':', expand=True)\n",
    "df['occ_hour'] = df['hour'].astype(int)\n",
    "df['occ_minute'] = df['minute'].astype(int)"
   ]
  },
  {
   "cell_type": "code",
   "execution_count": 7,
   "id": "2bbf67d5-11fd-4acb-b6c5-eafffbc2d54d",
   "metadata": {},
   "outputs": [],
   "source": [
    "area_dict = {key: value for key, value in zip(df['AREA'], df['AREA NAME'])}"
   ]
  },
  {
   "cell_type": "code",
   "execution_count": 8,
   "id": "68a863f7-6a99-4152-992c-13e7c1ebc4ed",
   "metadata": {},
   "outputs": [
    {
     "data": {
      "text/plain": [
       "{7: 'Wilshire',\n",
       " 1: 'Central',\n",
       " 3: 'Southwest',\n",
       " 9: 'Van Nuys',\n",
       " 6: 'Hollywood',\n",
       " 18: 'Southeast',\n",
       " 13: 'Newton',\n",
       " 19: 'Mission',\n",
       " 2: 'Rampart',\n",
       " 10: 'West Valley',\n",
       " 8: 'West LA',\n",
       " 20: 'Olympic',\n",
       " 4: 'Hollenbeck',\n",
       " 21: 'Topanga',\n",
       " 11: 'Northeast',\n",
       " 12: '77th Street',\n",
       " 14: 'Pacific',\n",
       " 15: 'N Hollywood',\n",
       " 5: 'Harbor',\n",
       " 16: 'Foothill',\n",
       " 17: 'Devonshire'}"
      ]
     },
     "execution_count": 8,
     "metadata": {},
     "output_type": "execute_result"
    }
   ],
   "source": [
    "area_dict"
   ]
  },
  {
   "cell_type": "code",
   "execution_count": 9,
   "id": "70f245c7-70b7-493f-b47c-f70863c9a382",
   "metadata": {},
   "outputs": [],
   "source": [
    "df=df.drop(\"AREA NAME\",axis=1)\n",
    "df=df.drop(\"Date Rptd\",axis=1)\n",
    "df=df.drop(\"DATE OCC\",axis=1)\n",
    "df=df.drop(\"TIME OCC\",axis=1)"
   ]
  },
  {
   "cell_type": "code",
   "execution_count": 10,
   "id": "d3340f5d-168c-4d48-9252-81364975cbb5",
   "metadata": {},
   "outputs": [],
   "source": [
    "crm_dict = {key: value for key, value in zip(df['Crm Cd'], df['Crm Cd Desc'])}\n"
   ]
  },
  {
   "cell_type": "code",
   "execution_count": 11,
   "id": "c2b93f31-c76e-45ba-becb-b627b67a91c8",
   "metadata": {},
   "outputs": [],
   "source": [
    "df=df.drop(\"Crm Cd Desc\",axis=1)"
   ]
  },
  {
   "cell_type": "code",
   "execution_count": 12,
   "id": "9a20d324-23da-4518-ab09-e1a7d8a044a8",
   "metadata": {},
   "outputs": [],
   "source": [
    "df=df.drop(\"Mocodes\",axis=1)"
   ]
  },
  {
   "cell_type": "code",
   "execution_count": 13,
   "id": "0abcb5a7-3ae1-42e9-b24c-6fcf724f998b",
   "metadata": {},
   "outputs": [],
   "source": [
    "premis_dict = {key: value for key, value in zip(df['Premis Cd'], df['Premis Desc'])}"
   ]
  },
  {
   "cell_type": "code",
   "execution_count": 14,
   "id": "9fc5c983-483e-4576-b9a1-7433a16d6b8c",
   "metadata": {},
   "outputs": [],
   "source": [
    "df=df.drop(\"Premis Desc\",axis=1)"
   ]
  },
  {
   "cell_type": "code",
   "execution_count": 15,
   "id": "a44cc2ac-f272-4e1d-8903-81476e3e9c41",
   "metadata": {},
   "outputs": [],
   "source": [
    "df[\"Weapon Used Cd\"]=df[\"Weapon Used Cd\"].replace(\"Not provided\",0)"
   ]
  },
  {
   "cell_type": "code",
   "execution_count": 16,
   "id": "7fc26d8c-c978-40a1-91da-8b7399cf6d5f",
   "metadata": {},
   "outputs": [
    {
     "data": {
      "text/plain": [
       "{0.0: 'Not provided',\n",
       " 400.0: 'STRONG-ARM (HANDS, FIST, FEET OR BODILY FORCE)',\n",
       " 307.0: 'VEHICLE',\n",
       " 500.0: 'UNKNOWN WEAPON/OTHER WEAPON',\n",
       " 511.0: 'VERBAL THREAT',\n",
       " 301.0: 'BELT FLAILING INSTRUMENT/CHAIN',\n",
       " 102.0: 'HAND GUN',\n",
       " 106.0: 'UNKNOWN FIREARM',\n",
       " 200.0: 'KNIFE WITH BLADE 6INCHES OR LESS',\n",
       " 305.0: 'FIXED OBJECT',\n",
       " 205.0: 'KITCHEN KNIFE',\n",
       " 215.0: 'MACHETE',\n",
       " 223.0: 'UNKNOWN TYPE CUTTING INSTRUMENT',\n",
       " 512.0: 'MACE/PEPPER SPRAY',\n",
       " 304.0: 'CLUB/BAT',\n",
       " 308.0: 'STICK',\n",
       " 207.0: 'OTHER KNIFE',\n",
       " 515.0: 'PHYSICAL PRESENCE',\n",
       " 201.0: 'KNIFE WITH BLADE OVER 6 INCHES IN LENGTH',\n",
       " 311.0: 'HAMMER',\n",
       " 114.0: 'AIR PISTOL/REVOLVER/RIFLE/BB GUN',\n",
       " 109.0: 'SEMI-AUTOMATIC PISTOL',\n",
       " 113.0: 'SIMULATED GUN',\n",
       " 208.0: 'RAZOR',\n",
       " 107.0: 'OTHER FIREARM',\n",
       " 204.0: 'FOLDING KNIFE',\n",
       " 312.0: 'PIPE/METAL PIPE',\n",
       " 306.0: 'ROCK/THROWN OBJECT',\n",
       " 103.0: 'RIFLE',\n",
       " 218.0: 'OTHER CUTTING INSTRUMENT',\n",
       " 506.0: 'FIRE',\n",
       " 101.0: 'REVOLVER',\n",
       " 212.0: 'BOTTLE',\n",
       " 216.0: 'SCISSORS',\n",
       " 206.0: 'SWITCH BLADE',\n",
       " 303.0: 'BRASS KNUCKLES',\n",
       " 302.0: 'BLUNT INSTRUMENT',\n",
       " 309.0: 'BOARD',\n",
       " 513.0: 'STUN GUN',\n",
       " 213.0: 'CLEAVER',\n",
       " 210.0: 'RAZOR BLADE',\n",
       " 219.0: 'SCREWDRIVER',\n",
       " 104.0: 'SHOTGUN',\n",
       " 310.0: 'CONCRETE BLOCK/BRICK',\n",
       " 503.0: 'CAUSTIC CHEMICAL/POISON',\n",
       " 110.0: 'SEMI-AUTOMATIC RIFLE',\n",
       " 510.0: 'SCALDING LIQUID',\n",
       " 514.0: 'TIRE IRON',\n",
       " 202.0: 'BOWIE KNIFE',\n",
       " 221.0: 'GLASS',\n",
       " 211.0: 'AXE',\n",
       " 112.0: 'TOY GUN',\n",
       " 501.0: 'BOMB THREAT',\n",
       " 105.0: 'SAWED OFF RIFLE/SHOTGUN',\n",
       " 508.0: 'MARTIAL ARTS WEAPONS',\n",
       " 504.0: 'DEMAND NOTE',\n",
       " 203.0: 'DIRK/DAGGER',\n",
       " 115.0: 'ASSAULT WEAPON/UZI/AK47/ETC',\n",
       " 509.0: 'ROPE/LIGATURE',\n",
       " 122.0: 'HECKLER & KOCH 93 SEMIAUTOMATIC ASSAULT RIFLE',\n",
       " 505.0: 'EXPLOXIVE DEVICE',\n",
       " 217.0: 'SWORD',\n",
       " 120.0: 'MAC-11 SEMIAUTOMATIC ASSAULT WEAPON',\n",
       " 220.0: 'SYRINGE',\n",
       " 502.0: 'BOW AND ARROW',\n",
       " 507.0: 'LIQUOR/DRUGS',\n",
       " 516.0: 'DOG/ANIMAL (SIC ANIMAL ON)',\n",
       " 300.0: 'BLACKJACK',\n",
       " 214.0: 'ICE PICK',\n",
       " 125.0: 'RELIC FIREARM',\n",
       " 108.0: 'AUTOMATIC WEAPON/SUB-MACHINE GUN',\n",
       " 116.0: 'ANTIQUE FIREARM',\n",
       " 121.0: 'HECKLER & KOCH 91 SEMIAUTOMATIC ASSAULT RIFLE',\n",
       " 209.0: 'STRAIGHT RAZOR',\n",
       " 123.0: 'M1-1 SEMIAUTOMATIC ASSAULT RIFLE',\n",
       " 111.0: 'STARTER PISTOL/REVOLVER',\n",
       " 118.0: 'UZI SEMIAUTOMATIC ASSAULT RIFLE',\n",
       " 119.0: 'MAC-10 SEMIAUTOMATIC ASSAULT WEAPON',\n",
       " 117.0: 'UNK TYPE SEMIAUTOMATIC ASSAULT RIFLE',\n",
       " 124.0: 'M-14 SEMIAUTOMATIC ASSAULT RIFLE'}"
      ]
     },
     "execution_count": 16,
     "metadata": {},
     "output_type": "execute_result"
    }
   ],
   "source": [
    "weapon_dict = dict(zip(df[\"Weapon Used Cd\"].astype(float), df['Weapon Desc']))\n",
    "\n",
    "weapon_dict"
   ]
  },
  {
   "cell_type": "code",
   "execution_count": 17,
   "id": "b48411d0-82cb-4d27-97d1-9a98d8fb25c0",
   "metadata": {},
   "outputs": [],
   "source": [
    "df=df.drop(\"Weapon Desc\",axis=1)"
   ]
  },
  {
   "cell_type": "code",
   "execution_count": 18,
   "id": "67a3ed94-52c4-49e8-8ef8-b50542d6216c",
   "metadata": {},
   "outputs": [],
   "source": [
    "status_dict = {key: value for key, value in zip(df['Status'], df['Status Desc'])}"
   ]
  },
  {
   "cell_type": "code",
   "execution_count": 19,
   "id": "2cc28cce-a163-40bd-a038-05551fac89ec",
   "metadata": {},
   "outputs": [],
   "source": [
    "df=df.drop(\"Status Desc\",axis=1)"
   ]
  },
  {
   "cell_type": "code",
   "execution_count": 20,
   "id": "6d484a8d-69b9-4b8f-9897-1ab10de502c6",
   "metadata": {},
   "outputs": [],
   "source": [
    "df=df.drop(\"LOCATION\",axis=1)"
   ]
  },
  {
   "cell_type": "code",
   "execution_count": 21,
   "id": "4f336de9-685b-4dcb-b756-56c7dd64514a",
   "metadata": {},
   "outputs": [
    {
     "name": "stdout",
     "output_type": "stream",
     "text": [
      "Accuracy: 0.274\n"
     ]
    }
   ],
   "source": [
    "# Import necessary libraries\n",
    "from sklearn.model_selection import train_test_split\n",
    "from sklearn.ensemble import RandomForestClassifier\n",
    "from sklearn.datasets import load_iris\n",
    "cols=['AREA', 'Rpt Dist No',\n",
    "       'LAT', 'LON', 'day_rptd', 'month_rptd', 'year_rptd', 'day_occ',\n",
    "       'month_occ', 'year_occ', 'hour', 'minute', 'occ_hour', 'occ_minute']\n",
    "tempo=df.drop(columns=cols,axis=1)\n",
    "X = df.drop(columns=tempo.columns)[:5000]\n",
    "y = df[\"Crm Cd\"][:5000]\n",
    "\n",
    "# Split the dataset into training and testing sets\n",
    "X_train, X_test, y_train, y_test = train_test_split(X, y, test_size=0.2, random_state=42)\n",
    "\n",
    "# Initialize the Random Forest classifier\n",
    "clf = RandomForestClassifier(n_estimators=100, random_state=42)\n",
    "\n",
    "# Train the classifier on the training data\n",
    "clf.fit(X_train, y_train)\n",
    "\n",
    "# Predict on the test data\n",
    "y_pred = clf.predict(X_test)\n",
    "\n",
    "# Evaluate the model\n",
    "accuracy = clf.score(X_test, y_test)\n",
    "print(\"Accuracy:\", accuracy)\n"
   ]
  },
  {
   "cell_type": "code",
   "execution_count": 23,
   "id": "7f98fdb5-2ebd-46bd-bf4d-df14f7d3ef1b",
   "metadata": {},
   "outputs": [
    {
     "name": "stderr",
     "output_type": "stream",
     "text": [
      "<>:3: SyntaxWarning: invalid escape sequence '\\e'\n",
      "<>:3: SyntaxWarning: invalid escape sequence '\\e'\n",
      "C:\\Users\\VIGNESH\\AppData\\Local\\Temp\\ipykernel_19188\\560993350.py:3: SyntaxWarning: invalid escape sequence '\\e'\n",
      "  os.chdir(\"D:\\everythingfromc\\portfolio\\capstone_4 (2)\\capstone_4\")\n"
     ]
    }
   ],
   "source": [
    "import os\n",
    "import pickle\n",
    "os.chdir(\"D:\\everythingfromc\\portfolio\\capstone_4 (2)\\capstone_4\")\n",
    "with open('crime_Type.pkl', 'wb') as f:\n",
    "    pickle.dump(clf, f)\n",
    "\n",
    "\n"
   ]
  },
  {
   "cell_type": "code",
   "execution_count": 22,
   "id": "c106f09f",
   "metadata": {},
   "outputs": [],
   "source": [
    "crime_types_pred = clf.predict(X_test)"
   ]
  },
  {
   "cell_type": "code",
   "execution_count": 24,
   "id": "3710f683-3eb8-40fe-a4af-cea72c9d4567",
   "metadata": {},
   "outputs": [
    {
     "name": "stdout",
     "output_type": "stream",
     "text": [
      "Accuracy: 0.207\n"
     ]
    }
   ],
   "source": [
    "# Import necessary libraries\n",
    "from sklearn.svm import SVC\n",
    "from sklearn.model_selection import train_test_split\n",
    "from sklearn.metrics import accuracy_score\n",
    "\n",
    "X_train, X_test, y_train, y_test = train_test_split(X, y, test_size=0.2, random_state=42)\n",
    "\n",
    "# Initialize the Support Vector Machine classifier\n",
    "clf = SVC(kernel='rbf', C=1.0, gamma='scale', random_state=42)\n",
    "\n",
    "# Train the classifier\n",
    "clf.fit(X_train, y_train)\n",
    "\n",
    "# Test the classifier\n",
    "y_pred = clf.predict(X_test)\n",
    "\n",
    "# Compute the accuracy\n",
    "accuracy = accuracy_score(y_test, y_pred)\n",
    "print(\"Accuracy:\", accuracy)\n"
   ]
  },
  {
   "cell_type": "code",
   "execution_count": 25,
   "id": "aac1a6e1-a775-461f-88c3-03d51d629ea8",
   "metadata": {},
   "outputs": [
    {
     "name": "stdout",
     "output_type": "stream",
     "text": [
      "Accuracy: 0.235\n"
     ]
    }
   ],
   "source": [
    "# Importing necessary libraries\n",
    "from sklearn.datasets import make_classification\n",
    "from sklearn.model_selection import train_test_split\n",
    "from sklearn.ensemble import GradientBoostingClassifier\n",
    "from sklearn.metrics import accuracy_score\n",
    "\n",
    "# Generating some synthetic data\n",
    "\n",
    "# Splitting the data into training and testing sets\n",
    "X_train, X_test, y_train, y_test = train_test_split(X, y, test_size=0.2, random_state=42)\n",
    "\n",
    "# Creating and training the Gradient Boosting Classifier\n",
    "clf = GradientBoostingClassifier(n_estimators=100, learning_rate=0.1, max_depth=3, random_state=42)\n",
    "clf.fit(X_train, y_train)\n",
    "\n",
    "# Making predictions on the testing set\n",
    "y_pred = clf.predict(X_test)\n",
    "\n",
    "# Evaluating the accuracy of the classifier\n",
    "accuracy = accuracy_score(y_test, y_pred)\n",
    "print(\"Accuracy:\", accuracy)\n"
   ]
  },
  {
   "cell_type": "code",
   "execution_count": 26,
   "id": "dec36502-4d16-4ca7-9169-c1c06fecd8b2",
   "metadata": {},
   "outputs": [],
   "source": [
    "df['Vict Sex']=df['Vict Sex'].replace(\"F\",2)\n",
    "df['Vict Sex']=df['Vict Sex'].replace(\"M\",1)\n",
    "df['Vict Sex']=df['Vict Sex'].replace(\"X\",0)\n",
    "df['Vict Sex']=df['Vict Sex'].replace(\"P\",3)\n",
    "df['Vict Sex']=df['Vict Sex'].replace(\"Not provided\",3)"
   ]
  },
  {
   "cell_type": "code",
   "execution_count": 27,
   "id": "bb32d771-2863-4cc4-80cb-348e483c2878",
   "metadata": {},
   "outputs": [
    {
     "data": {
      "text/plain": [
       "Index(['AREA', 'Rpt Dist No', 'Part 1-2', 'Crm Cd', 'Vict Age', 'Vict Sex',\n",
       "       'Vict Descent', 'Premis Cd', 'Weapon Used Cd', 'Status', 'Crm Cd 1',\n",
       "       'Cross Street', 'LAT', 'LON', 'day_rptd', 'month_rptd', 'year_rptd',\n",
       "       'day_occ', 'month_occ', 'year_occ', 'hour', 'minute', 'occ_hour',\n",
       "       'occ_minute'],\n",
       "      dtype='object')"
      ]
     },
     "execution_count": 27,
     "metadata": {},
     "output_type": "execute_result"
    }
   ],
   "source": [
    "df.columns"
   ]
  },
  {
   "cell_type": "code",
   "execution_count": 28,
   "id": "5f31a92b-cf28-4e64-9c52-de9ca1759fd2",
   "metadata": {},
   "outputs": [],
   "source": [
    "df['Vict Descent']=df['Vict Descent'].replace(\"-\",'T')\n",
    "df['Vict Descent']=df['Vict Descent'].replace(\"Unknown\",'T')"
   ]
  },
  {
   "cell_type": "code",
   "execution_count": 29,
   "id": "5b3aa707-9578-4c7d-8225-5f727cece615",
   "metadata": {},
   "outputs": [],
   "source": [
    "set(df['Vict Descent'])\n",
    "temp=df['Vict Descent']\n"
   ]
  },
  {
   "cell_type": "code",
   "execution_count": 30,
   "id": "c661e99b-3738-4e09-a727-aab5a08df9b0",
   "metadata": {},
   "outputs": [],
   "source": [
    "df['Vict Descent']=temp"
   ]
  },
  {
   "cell_type": "code",
   "execution_count": 31,
   "id": "ce8dc685-65aa-4a78-8e78-f82739f2c062",
   "metadata": {},
   "outputs": [
    {
     "data": {
      "text/plain": [
       "{' Cambodian',\n",
       " 'American Indian/Alaskan Native',\n",
       " 'Asian Indian',\n",
       " 'Black',\n",
       " 'Chinese',\n",
       " 'Filipino',\n",
       " 'Guamanian',\n",
       " 'Hawaiian',\n",
       " 'Hispanic/Latin/Mexican',\n",
       " 'Japanese',\n",
       " 'Korean',\n",
       " 'Laotian',\n",
       " 'Other',\n",
       " 'Other Asian',\n",
       " 'Pacific Islander',\n",
       " 'Samoan',\n",
       " 'Unknown',\n",
       " 'Vietnamese',\n",
       " 'White'}"
      ]
     },
     "execution_count": 31,
     "metadata": {},
     "output_type": "execute_result"
    }
   ],
   "source": [
    "race={'A': 'Other Asian', 'B' : 'Black' ,'C':'Chinese', 'D' :' Cambodian', 'F' : 'Filipino', 'G': \n",
    "'Guamanian', 'H': 'Hispanic/Latin/Mexican' ,'I': 'American Indian/Alaskan Native' ,'J' :'Japanese' ,'K' : 'Korean', 'L': \n",
    "'Laotian', 'O': 'Other' ,'P': 'Pacific Islander' ,'S': 'Samoan','U':'Hawaiian' ,'V': 'Vietnamese','W' : 'White', 'X' :'Unknown','Z' : 'Asian Indian','T':'Unknown'}\n",
    "df['Vict Descent'] = df['Vict Descent'].replace(race)\n",
    "set(df['Vict Descent'])"
   ]
  },
  {
   "cell_type": "code",
   "execution_count": 32,
   "id": "700ac8f9-571d-4035-936c-2f9787678d88",
   "metadata": {},
   "outputs": [
    {
     "data": {
      "text/plain": [
       "{' Cambodian': 0,\n",
       " 'American Indian/Alaskan Native': 1,\n",
       " 'Asian Indian': 2,\n",
       " 'Black': 3,\n",
       " 'Chinese': 4,\n",
       " 'Filipino': 5,\n",
       " 'Guamanian': 6,\n",
       " 'Hawaiian': 7,\n",
       " 'Hispanic/Latin/Mexican': 8,\n",
       " 'Japanese': 9,\n",
       " 'Korean': 10,\n",
       " 'Laotian': 11,\n",
       " 'Other': 12,\n",
       " 'Other Asian': 13,\n",
       " 'Pacific Islander': 14,\n",
       " 'Samoan': 15,\n",
       " 'Unknown': 16,\n",
       " 'Vietnamese': 17,\n",
       " 'White': 18}"
      ]
     },
     "execution_count": 32,
     "metadata": {},
     "output_type": "execute_result"
    }
   ],
   "source": [
    "l={}\n",
    "t1=[' Cambodian',\n",
    " 'American Indian/Alaskan Native',\n",
    " 'Asian Indian',\n",
    " 'Black',\n",
    " 'Chinese',\n",
    " 'Filipino',\n",
    " 'Guamanian',\n",
    " 'Hawaiian',\n",
    " 'Hispanic/Latin/Mexican',\n",
    " 'Japanese',\n",
    " 'Korean',\n",
    " 'Laotian',\n",
    " 'Other',\n",
    " 'Other Asian',\n",
    " 'Pacific Islander',\n",
    " 'Samoan',\n",
    " 'Unknown',\n",
    " 'Vietnamese',\n",
    " 'White']\n",
    "for i in range(0,len(t1)):\n",
    "    l[t1[i]]=i\n",
    "l"
   ]
  },
  {
   "cell_type": "code",
   "execution_count": 33,
   "id": "bb2b6949-ea96-4042-8397-531addf9c01d",
   "metadata": {},
   "outputs": [
    {
     "data": {
      "text/plain": [
       "0         12\n",
       "1         12\n",
       "2         16\n",
       "3         12\n",
       "4          8\n",
       "          ..\n",
       "925006    12\n",
       "925007     8\n",
       "925008    12\n",
       "925009    12\n",
       "925010    16\n",
       "Name: Vict Descent, Length: 925011, dtype: int64"
      ]
     },
     "execution_count": 33,
     "metadata": {},
     "output_type": "execute_result"
    }
   ],
   "source": [
    "df['Vict Descent'] = df['Vict Descent'].map(l)\n",
    "df['Vict Descent']"
   ]
  },
  {
   "cell_type": "code",
   "execution_count": 34,
   "id": "7213bc28-f21e-4c46-bb03-a61be405df13",
   "metadata": {},
   "outputs": [
    {
     "name": "stdout",
     "output_type": "stream",
     "text": [
      "Accuracy: 0.99\n"
     ]
    }
   ],
   "source": [
    "# Import necessary libraries\n",
    "from sklearn.model_selection import train_test_split\n",
    "from sklearn.ensemble import RandomForestClassifier\n",
    "from sklearn.datasets import load_iris\n",
    "cols=['AREA', 'Rpt Dist No','Crm Cd',\"Weapon Used Cd\",\"Vict Sex\",\"Vict Age\",\n",
    "       'Vict Descent',\n",
    "       'LAT', 'LON' ]\n",
    "tempo=df.drop(columns=cols,axis=1)\n",
    "X = df.drop(columns=tempo.columns)[:5000]\n",
    "y = df[\"Part 1-2\"][:5000]\n",
    "\n",
    "# Split the dataset into training and testing sets\n",
    "X_train, X_test, y_train, y_test = train_test_split(X, y, test_size=0.2, random_state=42)\n",
    "\n",
    "# Initialize the Random Forest classifier\n",
    "clf = RandomForestClassifier(n_estimators=100, random_state=42)\n",
    "\n",
    "# Train the classifier on the training data\n",
    "clf.fit(X_train, y_train)\n",
    "\n",
    "# Predict on the test data\n",
    "y_pred = clf.predict(X_test)\n",
    "\n",
    "# Evaluate the model\n",
    "accuracy = clf.score(X_test, y_test)\n",
    "print(\"Accuracy:\", accuracy)\n"
   ]
  },
  {
   "cell_type": "code",
   "execution_count": 35,
   "id": "2be91efe-197b-4b3c-8706-041d133fce3a",
   "metadata": {},
   "outputs": [
    {
     "name": "stdout",
     "output_type": "stream",
     "text": [
      "Accuracy: 0.766\n"
     ]
    }
   ],
   "source": [
    "X_train, X_test, y_train, y_test = train_test_split(X, y, test_size=0.2, random_state=42)\n",
    "\n",
    "# Initialize the Support Vector Machine classifier\n",
    "clf = SVC(kernel='rbf', C=1.0, gamma='scale', random_state=42)\n",
    "\n",
    "# Train the classifier\n",
    "clf.fit(X_train, y_train)\n",
    "\n",
    "# Test the classifier\n",
    "y_pred = clf.predict(X_test)\n",
    "\n",
    "# Compute the accuracy\n",
    "accuracy = accuracy_score(y_test, y_pred)\n",
    "print(\"Accuracy:\", accuracy)"
   ]
  },
  {
   "cell_type": "code",
   "execution_count": 36,
   "id": "64c9f40d-e54a-4b83-9d1a-9800a02ccc54",
   "metadata": {},
   "outputs": [
    {
     "name": "stdout",
     "output_type": "stream",
     "text": [
      "Accuracy: 0.999\n"
     ]
    }
   ],
   "source": [
    "from sklearn.datasets import make_classification\n",
    "from sklearn.model_selection import train_test_split\n",
    "from sklearn.ensemble import GradientBoostingClassifier\n",
    "from sklearn.metrics import accuracy_score\n",
    "X_train, X_test, y_train, y_test = train_test_split(X, y, test_size=0.2, random_state=42)\n",
    "\n",
    "# Creating and training the Gradient Boosting Classifier\n",
    "clf = GradientBoostingClassifier(n_estimators=100, learning_rate=0.1, max_depth=3, random_state=42)\n",
    "clf.fit(X_train, y_train)\n",
    "\n",
    "# Making predictions on the testing set\n",
    "y_pred = clf.predict(X_test)\n",
    "\n",
    "# Evaluating the accuracy of the classifier\n",
    "accuracy = accuracy_score(y_test, y_pred)\n",
    "print(\"Accuracy:\", accuracy)\n"
   ]
  },
  {
   "cell_type": "code",
   "execution_count": 38,
   "id": "43446bb4-ed4b-4448-9e08-cbbca50eb6c5",
   "metadata": {},
   "outputs": [],
   "source": [
    "import os\n",
    "import pickle\n",
    "os.chdir(\"D:/everythingfromc/portfolio/capstone_4 (2)/capstone_4\")\n",
    "with open('Crime_severity2.pkl', 'wb') as f:\n",
    "    pickle.dump(clf, f)\n",
    "\n"
   ]
  },
  {
   "cell_type": "code",
   "execution_count": 37,
   "id": "c38c7fe1",
   "metadata": {},
   "outputs": [],
   "source": [
    "crime_severity_pred = clf.predict(X_test)"
   ]
  },
  {
   "cell_type": "code",
   "execution_count": 39,
   "id": "1e8109ca-e549-44c2-a493-e668e7093c3f",
   "metadata": {},
   "outputs": [
    {
     "name": "stdout",
     "output_type": "stream",
     "text": [
      "Accuracy: 0.979\n"
     ]
    }
   ],
   "source": [
    "cols=[ 'LAT', 'LON']\n",
    "tempo=df.drop(columns=cols,axis=1)\n",
    "X = df.drop(columns=tempo.columns)[:5000]\n",
    "y = df[\"AREA\"][:5000]\n",
    "\n",
    "# Split the dataset into training and testing sets\n",
    "X_train, X_test, y_train, y_test = train_test_split(X, y, test_size=0.2, random_state=42)\n",
    "\n",
    "# Initialize the Random Forest classifier\n",
    "clf = RandomForestClassifier(n_estimators=100, random_state=42)\n",
    "\n",
    "# Train the classifier on the training data\n",
    "clf.fit(X_train, y_train)\n",
    "\n",
    "# Predict on the test data\n",
    "y_pred = clf.predict(X_test)\n",
    "\n",
    "# Evaluate the model\n",
    "accuracy = clf.score(X_test, y_test)\n",
    "print(\"Accuracy:\", accuracy)"
   ]
  },
  {
   "cell_type": "code",
   "execution_count": 41,
   "id": "6ba57f2b-00a9-4331-bf72-9a4646a83dae",
   "metadata": {},
   "outputs": [],
   "source": [
    "import os\n",
    "import pickle\n",
    "os.chdir(\"D:/everythingfromc/portfolio/capstone_4 (2)/capstone_4\")\n",
    "with open('Area1.pkl', 'wb') as f:\n",
    "    pickle.dump(clf, f)\n",
    "\n"
   ]
  },
  {
   "cell_type": "code",
   "execution_count": 40,
   "id": "e7365b90",
   "metadata": {},
   "outputs": [],
   "source": [
    "high_crime_areas_pred = clf.predict(X_test)"
   ]
  },
  {
   "cell_type": "code",
   "execution_count": 42,
   "id": "306f4f53-433f-49a5-89a2-f2399b840422",
   "metadata": {},
   "outputs": [
    {
     "name": "stdout",
     "output_type": "stream",
     "text": [
      "Accuracy: 0.976\n"
     ]
    }
   ],
   "source": [
    "X_train, X_test, y_train, y_test = train_test_split(X, y, test_size=0.2, random_state=42)\n",
    "\n",
    "# Creating and training the Gradient Boosting Classifier\n",
    "clf = GradientBoostingClassifier(n_estimators=100, learning_rate=0.1, max_depth=3, random_state=42)\n",
    "clf.fit(X_train, y_train)\n",
    "\n",
    "# Making predictions on the testing set\n",
    "y_pred = clf.predict(X_test)\n",
    "\n",
    "# Evaluating the accuracy of the classifier\n",
    "accuracy = accuracy_score(y_test, y_pred)\n",
    "print(\"Accuracy:\", accuracy)\n"
   ]
  },
  {
   "cell_type": "code",
   "execution_count": 43,
   "id": "d01e3338-3118-49ee-b947-0b8fc84d4f59",
   "metadata": {},
   "outputs": [
    {
     "name": "stdout",
     "output_type": "stream",
     "text": [
      "Accuracy: 0.082\n"
     ]
    }
   ],
   "source": [
    "X_train, X_test, y_train, y_test = train_test_split(X, y, test_size=0.2, random_state=42)\n",
    "\n",
    "# Initialize the Support Vector Machine classifier\n",
    "clf = SVC(kernel='rbf', C=1.0, gamma='scale', random_state=42)\n",
    "\n",
    "# Train the classifier\n",
    "clf.fit(X_train, y_train)\n",
    "\n",
    "# Test the classifier\n",
    "y_pred = clf.predict(X_test)\n",
    "\n",
    "# Compute the accuracy\n",
    "accuracy = accuracy_score(y_test, y_pred)\n",
    "print(\"Accuracy:\", accuracy)"
   ]
  },
  {
   "cell_type": "code",
   "execution_count": 42,
   "id": "7c88a0c8",
   "metadata": {},
   "outputs": [],
   "source": [
    "resource_allocation_score = crime_types_pred * high_crime_areas_pred * crime_severity_pred"
   ]
  },
  {
   "cell_type": "code",
   "execution_count": 43,
   "id": "01d2b589",
   "metadata": {},
   "outputs": [
    {
     "data": {
      "text/plain": [
       "array([ 9204, 13146,  8736,  4956,  1416,  7788,  4248,  8112,  1872,\n",
       "        7788, 13320,  6018,  2832,  3540,  6120,  5610,  3248,  6510,\n",
       "        6372,  4248, 12520,  4590,  5664,  7788,  4620,  2832, 14280,\n",
       "         708,  4140,  4602,  9893,  1452, 21420,  6260, 19728,  4620,\n",
       "        4340,   745,  7650,  2040,  2220,  1248,  5664,  3894,  9912,\n",
       "       11268,  6630,  3310, 18704,  2478, 12520,  9690, 21216,  4650,\n",
       "        2832,  1020, 36120,  7080, 12744,  1248, 20400,  1260, 24960,\n",
       "        5008, 26480, 11232, 10560,  3744,  5616,  2124,  9282,   708,\n",
       "        2832,  9912,  3120,  6630,  1252,  1020,   420, 16720, 11232,\n",
       "         708,  8840,  1336, 22464, 14868,  1416,  9268,   624,   624,\n",
       "        2980,  8680,  8496,  4956,  1416,  6260,  7920,  5880,  4248,\n",
       "        2124, 12036, 12036,  8400,  2530,  8496,  5100,  2124, 12036,\n",
       "        4440,  4602,  2640,  4956,  5100, 12036,  4960, 17472, 17472,\n",
       "        4634,  8496,  2640, 12744,  4956, 12520,  4956,  9360,  9240,\n",
       "       11268,  8400,  6120,  6886,  4950,  2046, 18780,  5664, 12480,\n",
       "         920,  7140,  3680, 14160,  8496, 12540,  2300,  3630, 22830,\n",
       "        3720,  8736,   660,  2760, 19380, 23712, 13452, 16276,  4590,\n",
       "        4440,  2520,  9204,  2760,  9180, 12240,  1416,  2550,  3130,\n",
       "         708,  4248,  3540, 10710,  8496,   708, 18720,  1480,  3300,\n",
       "        1416,  5610,  4992,  2832,  3100, 10608, 10200,  8160,  5664,\n",
       "        2317,  3360,  6440,  3894, 10200,  2496,  2040, 19380,  4590,\n",
       "        3130,  3540,  8736,  3756,  7650,  6630,  2124,  4620,  1062,\n",
       "       11840,  9984,  6630, 14160,  8112,   840, 11952, 13146,  6720,\n",
       "        6018,  6600, 14868,  7650,  1416,  8280,  1248,   624,  9900,\n",
       "       16872,  4956,  5610,  9912, 14160,  4248, 17472,  7140,  4956,\n",
       "        3060,  6160,  9240, 13452,  9768, 16920,  4992,  4956, 23680,\n",
       "        2124, 16320, 11100,  7080,  2480, 13200,  7788, 14160,  5270,\n",
       "        6630,  1416,  1872, 10400,  5664,  2124,  9282, 19968,  4248,\n",
       "        6372, 12744,  5920,  9204,  2728,  3960,  8496, 11328,  8496,\n",
       "        3060, 13200,  4440, 12744,  3080,  2970,  8280, 12480,  2170,\n",
       "        1573,  4505, 10560,  3248,  8496,  9680,  4956,  5616,   626,\n",
       "        3186,  9300,  8800,  5580,  2478, 10620,  6630,  6018,  6600,\n",
       "       21420, 14868,  8460, 18360,  4620,  3080,   510, 10620,  2040,\n",
       "        3540, 11160,  4956, 13452,  4956,  4092, 13452,  5040,  4634,\n",
       "       11220,  2550,  5960,  7502,  3130,  8280,  5280,  7488,  1416,\n",
       "       14160,  4956,  2990,  4840,  8360,  2860,  3300,  1872,  8160,\n",
       "        1062,   708,  4080,   708,  3960,  6630,  2040,  7080,  3744,\n",
       "        7920,  3720, 10620,  7788,  1770,  9240,  6372,  6300,  7512,\n",
       "        1416,  9620, 12320, 22080,  8112,  5180,  2178,  9240, 12090,\n",
       "         330,  2124,  6726, 10620, 12744, 13260,  7434, 13452, 14976,\n",
       "       13452, 14868,  6260,  1324, 12744,  2760,  7788,  4248,  4248,\n",
       "       16720,  2046, 11232,  5664,  6600,  6160,  9690,  2700,  2478,\n",
       "        4956,  2550,  4092,  3630, 14868,  3060,  9912,  2478,  3069,\n",
       "        1770, 10530,  4956,  8496,  5664,  1150,  6018,  3540,  5280,\n",
       "        8496, 11410,  9300,  3744,  8496,  4650, 12036,  3060, 26208,\n",
       "        4840,  5664, 11328, 10620,  4620, 11328,  7140, 13260,  7080,\n",
       "        9204,  9180,  4340, 11232,  4992, 25160,  1530,  9180, 13452,\n",
       "        6188,  5610,  8112,  9912, 11328,  2728, 10620, 12036,  4400,\n",
       "         420,  8360,  1860, 21420, 14080,  4440,  8496,  1320,  2550,\n",
       "        5664,  8138, 12036,  2832,  9204,  5890,  1380,  1770,  9912,\n",
       "        5664,  6630,  3300,  8496,  6504,   354,  7140, 11160,  5940,\n",
       "        7080,  2124,  7788,  4956,  8880,  3780,  8736,  2040,  3570,\n",
       "        4960, 13020,  4370, 12240, 12744,  2648,  7140,  6160,  7140,\n",
       "        6372,  7080,  4248,  4440, 22464,  8496,  2832,  8400,  4634,\n",
       "       10620,  8400,  8496,  9204, 12036,  5664, 12744,  3540,  9912,\n",
       "       13020, 12744,  3540,  4956,  9984,  8580,   341,  2790, 10360,\n",
       "         354,  2124, 23826, 25330,  3540,  2832,  1320,  8800,  7502,\n",
       "        4248,  4248,  3540,   330,  5310, 12744,  5664,  5920,  9390,\n",
       "        1694,  5008,  4620,   354,  7140, 21420,  9390,  3540,  6260,\n",
       "        4956,  2970,  1062,  6240, 15096, 13452,  2760, 19380,   310,\n",
       "        9180,  7512,  9912,  5520,  4950,  6630,  5976,  3744, 16224,\n",
       "       27520,  5980,   624,  1760,  1690, 12240, 11328,  4080,  6120,\n",
       "       12240,   510,  3630,  5280, 10608,  9180,  7080,   210,  6120,\n",
       "       13020,  9180,  3744,  9180,  3960, 15024,  5180,  7080,  2728,\n",
       "        3540,  8800,  5980,  3744,  4248,  6120,  1416, 11232, 14868,\n",
       "        8160,   630, 15300,  4872,   440, 22464,  9912, 13260,  9240,\n",
       "        1320,  7080,  5616,  2170, 24960,  8736, 30856,  5270,  6726,\n",
       "        7140,  1600,  5664,  1416,  1240,   330,  6120, 14160,  4774,\n",
       "        5664, 10620, 12240, 13640, 12744,  8496,  9204,  8496,  9204,\n",
       "        4960,  4950, 15300,  8736,   510, 11328,  9912, 11594,  6372,\n",
       "        7080, 10620,  4248, 10200,  6600, 12240,  6372,  4080, 12958,\n",
       "        4080, 15300,  3910,  2504, 12400,  5797,  8112,  2310,  8400,\n",
       "        9240,  8138, 12460, 12540,  6720,  5610, 12744,  2070,  1860,\n",
       "        5664,   708,  2170, 12744,  1770,  2504,  3540,   330,  2040,\n",
       "       12036,  9180,  2004,  2124,   420, 14160,  6018, 13452,  1020,\n",
       "        2046, 12240, 12036,  8736,  5610,  7434,  6372, 30856,  1980,\n",
       "       19380,  6120,  1210, 33480,  9180, 15960, 15300, 20280,  9204,\n",
       "       10710,  5520,  5280,  4956, 14868,  2496,  8496,  7080,  2880,\n",
       "       15300,  9300,   460,  2310, 13410,  4248, 11594, 10560, 12320,\n",
       "        4248, 10620,  9240,  4620,  5215, 11232,   708,  6372,  9660,\n",
       "        6200,  1416,  9204,  4400,  6188,  7140,  9912, 29340, 18360,\n",
       "       12240,  5215,   708,  2640,  2124,  2310,  7980,  1416,  4248,\n",
       "        1920,  8496,   488, 13452,  9180,  2560, 12240,  7650, 23826,\n",
       "        7080,  2124, 16276,  5580,  9680,  3744, 18360,  3540,   815,\n",
       "        6930,  6270,  8400,  2760,  1980,  7080,  2832,   624,  4992,\n",
       "        4956,  5664,  7650, 15810, 21216,  6120, 12744,  4956,  4956,\n",
       "        9300,  1530,  5664,  1770,  6372,   708,  5100, 18480, 12036,\n",
       "        3744, 11856, 13200, 10608, 14868,  1062,  8496,  9240,  6510,\n",
       "        3756,  3540,   460,  8400,  6372,  2040,  8160,  7788,  2990,\n",
       "       15300, 16280,  2124,  9900,  4960,  5610,  2046,  1936, 13772,\n",
       "        2832, 11328,  2832, 14160,  5040,  7434,  4140,  9180,   510,\n",
       "        5008,  7080, 10608, 11160,  1260, 10620, 11328,  6372,   242,\n",
       "       22464,  3780,  2640, 19380, 13040, 14976, 17640,  9460,  4634,\n",
       "        7080,  7560,  5100, 14900,  2832,  8496, 14160,  2124,   341,\n",
       "        5310,  1020, 13260, 13260,  4248,  7080,  1452,  5304, 13320,\n",
       "       10620,  6372,  4248,  5008,  8400,  7514,  3744,  3744,  7560,\n",
       "       13440, 13260,  2124, 26292, 13020, 15024,  1248, 14868,  5192,\n",
       "        8138,  4440,   740, 26640,  5664,  2832, 23788,  1630,  9204,\n",
       "        3310,  3540,   708, 12744, 12520,  1252,  1624,  6018, 11232,\n",
       "       12036,  2760,  6120,  1240,  1050,  2960,   740,  2496,  3186,\n",
       "        7080,  1260,  4200, 11780,  6160, 14160,   330,  9204,  6300,\n",
       "        2478,  7788, 13452,  2124,  2170,  8184,  9180,  1020,   510,\n",
       "       18360, 14160, 10200, 11328, 10620,  5100,  6930,  5940,  5180,\n",
       "       17760, 11328,  2124, 26640,  4600,  2040,  8496, 11232,  4956,\n",
       "        1248,  4140,  4248,  5008,  2040, 17880,  1240,  5310, 24600,\n",
       "       12036, 12036,   624,  4248,  8820,  9180,  6726,   944,  3744,\n",
       "       13452,  2124,  8280,  3060, 14560, 18360,  8496,  6372,  8736,\n",
       "        6820, 10710,  5100,  8496,  3540, 17472,  3060, 14160,  6372,\n",
       "        1416,  6372, 11780,  3536,  4620,  7560, 14800,  2520,  1062,\n",
       "        7080,  7360, 23712, 23712,  5890, 10560,  7788, 10200,  1320,\n",
       "        7788,  9204,   840,  6018,  5310,   990,  2040,  8400,   930,\n",
       "        2496], dtype=int64)"
      ]
     },
     "execution_count": 43,
     "metadata": {},
     "output_type": "execute_result"
    }
   ],
   "source": [
    "resource_allocation_score"
   ]
  },
  {
   "cell_type": "code",
   "execution_count": null,
   "id": "a2482802",
   "metadata": {},
   "outputs": [],
   "source": []
  }
 ],
 "metadata": {
  "kernelspec": {
   "display_name": "Python 3 (ipykernel)",
   "language": "python",
   "name": "python3"
  },
  "language_info": {
   "codemirror_mode": {
    "name": "ipython",
    "version": 3
   },
   "file_extension": ".py",
   "mimetype": "text/x-python",
   "name": "python",
   "nbconvert_exporter": "python",
   "pygments_lexer": "ipython3",
   "version": "3.12.3"
  }
 },
 "nbformat": 4,
 "nbformat_minor": 5
}
